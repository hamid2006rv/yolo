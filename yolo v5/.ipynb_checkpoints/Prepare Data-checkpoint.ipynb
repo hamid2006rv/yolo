{
 "cells": [
  {
   "cell_type": "code",
   "execution_count": 16,
   "metadata": {},
   "outputs": [],
   "source": [
    "import os\n",
    "from tqdm import tqdm\n",
    "import argparse\n",
    "import xml.etree.ElementTree as ET"
   ]
  },
  {
   "cell_type": "code",
   "execution_count": 17,
   "metadata": {},
   "outputs": [],
   "source": [
    "class VOCParser(object):\n",
    "    def __init__(self, norm_bbox=False):\n",
    "        \"\"\"\n",
    "        parse voc style xml data into txt, box coordinator normalize into (0,1) or keep pixel\n",
    "        \"\"\"\n",
    "        self.norm_bbox = norm_bbox\n",
    "\n",
    "    def parse(self, anno_file, data_base_dir, class_map, return_img=True):\n",
    "        tree = ET.parse(anno_file)\n",
    "\n",
    "        file_name = tree.findtext(\"filename\")\n",
    "        img_dir = os.path.join(data_base_dir, 'JPEGImages', file_name)\n",
    "        if return_img:\n",
    "            img_dir = open(img_dir, 'rb').read()\n",
    "\n",
    "        height = float(tree.findtext(\"./size/height\"))\n",
    "        width = float(tree.findtext(\"./size/width\"))\n",
    "        xmin, ymin, xmax, ymax = [], [], [], []\n",
    "        classes, classes_name = [], []\n",
    "\n",
    "        for obj in tree.findall('object'):\n",
    "            difficult = obj.find('difficult').text\n",
    "            if difficult == '1':\n",
    "                continue\n",
    "            name = obj.find('name').text  # .encode('utf-8')\n",
    "            bbox = obj.find('bndbox')\n",
    "            xmin_ = float(bbox.find('xmin').text.strip())\n",
    "            ymin_ = float(bbox.find('ymin').text.strip())\n",
    "            xmax_ = float(bbox.find('xmax').text.strip())\n",
    "            ymax_ = float(bbox.find('ymax').text.strip())\n",
    "            if self.norm_bbox:\n",
    "                xmin_ /= width\n",
    "                ymin_ /= height\n",
    "                xmax_ /= width\n",
    "                ymax_ /= height\n",
    "            classes_name.append(name)\n",
    "            classes.append(class_map[name])\n",
    "\n",
    "            xmin.append(xmin_)\n",
    "            ymin.append(ymin_)\n",
    "            xmax.append(xmax_)\n",
    "            ymax.append(ymax_)\n",
    "        return img_dir, xmin, ymin, xmax, ymax, classes, classes_name"
   ]
  },
  {
   "cell_type": "code",
   "execution_count": 18,
   "metadata": {},
   "outputs": [],
   "source": [
    "class COCOParser(object):\n",
    "    def __init__(self, norm_bbox=False):\n",
    "        self.norm_bbox = norm_bbox\n",
    "\n",
    "    def parse(self, anno_file):\n",
    "        return"
   ]
  },
  {
   "cell_type": "code",
   "execution_count": 19,
   "metadata": {},
   "outputs": [],
   "source": [
    "class VOCPrepare(object):\n",
    "    def __init__(self, data_dir, class_name_dir, output_dir):\n",
    "        self.parser = VOCParser()\n",
    "\n",
    "        self.xml_files = []\n",
    "        for xml_file in os.listdir(os.path.join(data_dir,'Annotations')):\n",
    "            self.xml_files.append(os.path.join(data_dir,'Annotations', xml_file))\n",
    "\n",
    "        self.data_dir = data_dir\n",
    "        self.output_dir = output_dir\n",
    "        self.class_map = {name: idx for idx, name in enumerate(open(class_name_dir).read().splitlines())}\n",
    "\n",
    "    def write(self):\n",
    "        all_objects = self.get_objects()\n",
    "\n",
    "        with open(self.output_dir, 'a+', encoding='UTF-8') as f:\n",
    "            for objects in tqdm(all_objects):\n",
    "                self.write_single(f, objects)\n",
    "        print('Text generated, samples: {}'.format(len(all_objects)))\n",
    "\n",
    "    def write_single(self, f, objects):\n",
    "        gt = [','.join([str(i[n_gt]) for i in objects[1:6]]) for n_gt in range(len(objects[1]))]\n",
    "        objects_new = str(objects[0]) + ' ' + ' '.join(gt)\n",
    "        f.writelines(objects_new)\n",
    "        f.writelines(\"\\n\")\n",
    "\n",
    "    def get_objects(self):\n",
    "        all_objects = []\n",
    "        for xml in self.xml_files:\n",
    "            objects = self.parser.parse(xml, self.data_dir, self.class_map, return_img=False)\n",
    "            if objects is not None:\n",
    "                all_objects.append(objects)\n",
    "        return all_objects"
   ]
  },
  {
   "cell_type": "code",
   "execution_count": 20,
   "metadata": {},
   "outputs": [],
   "source": [
    "# data_prepare = VOCPrepare(r'C:\\yolo\\VOC2012',\n",
    "#                           r'C:\\yolo\\yolo v5\\Yolov5-main\\data\\sample\\voc.names',\n",
    "#                           r'C:\\yolo\\yolo v5\\output.txt')\n",
    "# data_prepare.write()"
   ]
  },
  {
   "cell_type": "code",
   "execution_count": 21,
   "metadata": {},
   "outputs": [
    {
     "name": "stderr",
     "output_type": "stream",
     "text": [
      "100%|███████████████████████████████████████████████████████████████████████████| 4952/4952 [00:00<00:00, 29134.75it/s]"
     ]
    },
    {
     "name": "stdout",
     "output_type": "stream",
     "text": [
      "Text generated, samples: 4952\n"
     ]
    },
    {
     "name": "stderr",
     "output_type": "stream",
     "text": [
      "\n"
     ]
    }
   ],
   "source": [
    "data_prepare = VOCPrepare(r'C:\\yolo\\VOC2007',\n",
    "                          r'C:\\yolo\\yolo v5\\Yolov5-main\\data\\sample\\voc.names',\n",
    "                          r'C:\\yolo\\yolo v5\\test.txt')\n",
    "data_prepare.write()"
   ]
  }
 ],
 "metadata": {
  "kernelspec": {
   "display_name": "Python 3",
   "language": "python",
   "name": "python3"
  },
  "language_info": {
   "codemirror_mode": {
    "name": "ipython",
    "version": 3
   },
   "file_extension": ".py",
   "mimetype": "text/x-python",
   "name": "python",
   "nbconvert_exporter": "python",
   "pygments_lexer": "ipython3",
   "version": "3.6.5"
  }
 },
 "nbformat": 4,
 "nbformat_minor": 2
}
